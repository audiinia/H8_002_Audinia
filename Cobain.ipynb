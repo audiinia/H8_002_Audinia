{
 "cells": [
  {
   "cell_type": "markdown",
   "id": "9f12193e",
   "metadata": {},
   "source": [
    "\n",
    "Install Library\n",
    "...\n"
   ]
  },
  {
   "cell_type": "code",
   "execution_count": 4,
   "id": "8b3577cc",
   "metadata": {},
   "outputs": [
    {
     "data": {
      "text/plain": [
       "'qux'"
      ]
     },
     "execution_count": 4,
     "metadata": {},
     "output_type": "execute_result"
    }
   ],
   "source": [
    "a = ['foo', 'bar', 'baz', 'qux', 'quux', 'corge']\n",
    "a[3]"
   ]
  },
  {
   "cell_type": "code",
   "execution_count": 18,
   "id": "110c5e09",
   "metadata": {},
   "outputs": [
    {
     "name": "stdout",
     "output_type": "stream",
     "text": [
      "['baz']\n"
     ]
    }
   ],
   "source": [
    "thlislist = ['foo','bar','baz','qux']\n",
    "print(thlislist[2:3])"
   ]
  },
  {
   "cell_type": "code",
   "execution_count": 26,
   "id": "a3eecbee",
   "metadata": {},
   "outputs": [
    {
     "name": "stdout",
     "output_type": "stream",
     "text": [
      "3\n"
     ]
    }
   ],
   "source": [
    "x = int(4.7)\n",
    "print(7-x)"
   ]
  },
  {
   "cell_type": "code",
   "execution_count": 28,
   "id": "7012a61d",
   "metadata": {},
   "outputs": [
    {
     "name": "stdout",
     "output_type": "stream",
     "text": [
      "('motor', 'pesawat', 'mobil')\n"
     ]
    }
   ],
   "source": [
    "x = (\"motor\",\"becak\",\"mobil\")\n",
    "y = list(x)\n",
    "y[1] = 'pesawat'\n",
    "x = tuple (y)\n",
    "print(x)"
   ]
  },
  {
   "cell_type": "code",
   "execution_count": 29,
   "id": "118c68ac",
   "metadata": {},
   "outputs": [
    {
     "ename": "SyntaxError",
     "evalue": "invalid syntax (<ipython-input-29-22f192e5503b>, line 1)",
     "output_type": "error",
     "traceback": [
      "\u001b[1;36m  File \u001b[1;32m\"<ipython-input-29-22f192e5503b>\"\u001b[1;36m, line \u001b[1;32m1\u001b[0m\n\u001b[1;33m    thisdict =(\"brand\":\"Ford\"),\"model\":\"Mustang\",\"year\":1964)\u001b[0m\n\u001b[1;37m                      ^\u001b[0m\n\u001b[1;31mSyntaxError\u001b[0m\u001b[1;31m:\u001b[0m invalid syntax\n"
     ]
    }
   ],
   "source": [
    "thisdict =(\"brand\":\"Ford\"),\"model\":\"Mustang\",\"year\":1964)\n",
    "        del thisdict\n",
    "        print(thisdict)"
   ]
  },
  {
   "cell_type": "code",
   "execution_count": 37,
   "id": "df2f8017",
   "metadata": {},
   "outputs": [
    {
     "ename": "SyntaxError",
     "evalue": "closing parenthesis ')' does not match opening parenthesis '[' (<ipython-input-37-9dc4f7f1fd59>, line 1)",
     "output_type": "error",
     "traceback": [
      "\u001b[1;36m  File \u001b[1;32m\"<ipython-input-37-9dc4f7f1fd59>\"\u001b[1;36m, line \u001b[1;32m1\u001b[0m\n\u001b[1;33m    list = ['motor','2','mobil','becak','Becak','sepeda','pesawat')\u001b[0m\n\u001b[1;37m                                                                  ^\u001b[0m\n\u001b[1;31mSyntaxError\u001b[0m\u001b[1;31m:\u001b[0m closing parenthesis ')' does not match opening parenthesis '['\n"
     ]
    }
   ],
   "source": [
    "list = ['motor','2','mobil','becak','Becak','sepeda','pesawat')\n",
    "       list.sort()\n",
    "      "
   ]
  },
  {
   "cell_type": "code",
   "execution_count": null,
   "id": "3655a82f",
   "metadata": {},
   "outputs": [],
   "source": []
  }
 ],
 "metadata": {
  "kernelspec": {
   "display_name": "Python 3",
   "language": "python",
   "name": "python3"
  },
  "language_info": {
   "codemirror_mode": {
    "name": "ipython",
    "version": 3
   },
   "file_extension": ".py",
   "mimetype": "text/x-python",
   "name": "python",
   "nbconvert_exporter": "python",
   "pygments_lexer": "ipython3",
   "version": "3.8.8"
  }
 },
 "nbformat": 4,
 "nbformat_minor": 5
}
